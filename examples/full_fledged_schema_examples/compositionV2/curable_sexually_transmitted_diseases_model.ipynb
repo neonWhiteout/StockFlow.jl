{
 "cells": [
  {
   "cell_type": "code",
   "execution_count": null,
   "metadata": {},
   "outputs": [],
   "source": [
    "import Pkg\n",
    "Pkg.activate(\"MyProject\")\n",
    "Pkg.develop(path=\"/home/silicon/Documents/Git/StockFlow.jl/\")\n",
    "\n",
    "Pkg.instantiate()"
   ]
  },
  {
   "cell_type": "code",
   "execution_count": null,
   "metadata": {},
   "outputs": [],
   "source": [
    "using Revise"
   ]
  },
  {
   "cell_type": "code",
   "execution_count": null,
   "metadata": {},
   "outputs": [],
   "source": [
    "using GraphViz\n",
    "\n",
    "using StockFlow\n",
    "using StockFlow.Syntax\n",
    "\n",
    "using Catlab\n",
    "using Catlab.CategoricalAlgebra\n",
    "using LabelledArrays\n",
    "using OrdinaryDiffEq\n",
    "using Plots\n",
    "\n",
    "using Catlab.Graphics\n",
    "using Catlab.Programs\n",
    "using Catlab.Theories\n",
    "using Catlab.WiringDiagrams"
   ]
  },
  {
   "cell_type": "markdown",
   "metadata": {},
   "source": [
    "This model is re-created based on Garnett's paper:\n",
    "https://journals.lww.com/stdjournal/Fulltext/2000/11000/Epidemiology_and_Control_of_Curable_Sexually.7.aspx"
   ]
  },
  {
   "cell_type": "markdown",
   "metadata": {},
   "source": [
    "# 1. Define the components of all the sub-models\n",
    "## 1.1 The births and deaths of Stock X"
   ]
  },
  {
   "cell_type": "code",
   "execution_count": null,
   "metadata": {},
   "outputs": [],
   "source": [
    "openX = Open( \n",
    "    (@stock_and_flow begin\n",
    "\n",
    "        :stocks\n",
    "        X\n",
    "\n",
    "        :parameters\n",
    "        μ\n",
    "\n",
    "        :dynamic_variables\n",
    "        v_births = N * μ\n",
    "        v_deaths = X * μ\n",
    "\n",
    "        :flows\n",
    "        CLOUD => f_births(v_births) => X\n",
    "        X => f_deathX(v_deaths) => CLOUD\n",
    "\n",
    "        :sums\n",
    "        N = [X]\n",
    "\n",
    "        end \n",
    "    ),\n",
    "    # feet\n",
    "    @foot X => N\n",
    "    #foot(:X,:N,:X=>:N)\n",
    "    \n",
    ")\n",
    "\n"
   ]
  },
  {
   "cell_type": "code",
   "execution_count": null,
   "metadata": {},
   "outputs": [],
   "source": [
    "Graph(apex(openX))"
   ]
  },
  {
   "cell_type": "markdown",
   "metadata": {},
   "source": [
    "## 1.2 The SIS sub-model structure"
   ]
  },
  {
   "cell_type": "code",
   "execution_count": null,
   "metadata": {},
   "outputs": [],
   "source": [
    "openSIS_A = Open(\n",
    "    (@stock_and_flow begin\n",
    "\n",
    "        :stocks\n",
    "        X\n",
    "        A\n",
    "\n",
    "        :parameters\n",
    "        μ\n",
    "        ϕ_complement\n",
    "        σ′\n",
    "        cβ\n",
    "\n",
    "        :dynamic_variables\n",
    "        v_newInfectiousA₁ = ϕ_complement * X\n",
    "        v_newInfectiousA₂ = v_newInfectiousA₁ * cβ\n",
    "        v_newInfectiousA₃ = v_newInfectiousA₂ * NI\n",
    "        v_newInfectiousA₄ = v_newInfectiousA₃ / N\n",
    "\n",
    "        v_deathA = A * μ\n",
    "\n",
    "        v_recoveryA = A * σ′\n",
    "\n",
    "        :flows\n",
    "        X => f_newInfectiousA(v_newInfectiousA₄) => A\n",
    "        A => f_deathA(v_deathA) => CLOUD\n",
    "        A => f_recoveryA(v_recoveryA) => X\n",
    "\n",
    "        :sums\n",
    "        N = [X, A]\n",
    "        NI = [A]\n",
    "\n",
    "    end\n",
    "    ),\n",
    "     # feet\n",
    "    @foot X => N,\n",
    "     foot(:X,:N,:X=>:N),\n",
    "     foot((),:NI,())\n",
    "\n",
    ")"
   ]
  },
  {
   "cell_type": "code",
   "execution_count": null,
   "metadata": {},
   "outputs": [],
   "source": [
    "Graph(apex(openSIS_A))"
   ]
  },
  {
   "cell_type": "code",
   "execution_count": null,
   "metadata": {},
   "outputs": [],
   "source": [
    "openSIS_Y = Open(\n",
    "    (@stock_and_flow begin\n",
    "    \n",
    "    :stocks\n",
    "    X\n",
    "    Y\n",
    "\n",
    "    :parameters\n",
    "    μ\n",
    "    ϕ\n",
    "    σ\n",
    "    cβ\n",
    "\n",
    "    :dynamic_variables\n",
    "    v_newInfectiousY₁ = ϕ * X\n",
    "    v_newInfectiousY₂ = v_newInfectiousY₁ * cβ\n",
    "    v_newInfectiousY₃ = v_newInfectiousY₂ * NI\n",
    "    v_newInfectiousY₄ = v_newInfectiousY₃ / N\n",
    "\n",
    "    v_deathY = Y * μ\n",
    "\n",
    "    v_recoveryY = Y * σ\n",
    "\n",
    "    :flows\n",
    "    X => f_newInfectiousY(v_newInfectiousY₄) => Y\n",
    "    Y => f_deathY(v_deathY) => CLOUD\n",
    "    Y => f_recoveryY(v_recoveryY) => X\n",
    "\n",
    "    :sums\n",
    "    N = [X, Y]\n",
    "    NI = [Y]\n",
    "\n",
    "end\n",
    "        ),\n",
    "\n",
    "     # feet\n",
    "     foot(:X,:N,:X=>:N),\n",
    "     foot((),:NI,())\n",
    "    \n",
    ")"
   ]
  },
  {
   "cell_type": "code",
   "execution_count": null,
   "metadata": {
    "scrolled": true
   },
   "outputs": [],
   "source": [
    "Graph(apex(openSIS_Y))"
   ]
  },
  {
   "cell_type": "markdown",
   "metadata": {},
   "source": [
    "# 2 Compose\n",
    "## 2.1 Define composition rule"
   ]
  },
  {
   "cell_type": "code",
   "execution_count": null,
   "metadata": {},
   "outputs": [],
   "source": [
    "# define the UWD-algebra\n",
    "uwd = @relation (XN,NI) begin\n",
    "    X(XN)\n",
    "    XA(XN,NI)\n",
    "    XY(XN,NI)\n",
    "end;\n",
    "display_uwd(uwd)"
   ]
  },
  {
   "cell_type": "code",
   "execution_count": null,
   "metadata": {},
   "outputs": [],
   "source": [
    "XAY_model = oapply(uwd,Dict(\n",
    "    :X=>openX,\n",
    "    :XA=>openSIS_A,\n",
    "    :XY=>openSIS_Y\n",
    "    )) |> apex\n",
    "Graph(XAY_model)"
   ]
  },
  {
   "cell_type": "code",
   "execution_count": null,
   "metadata": {},
   "outputs": [],
   "source": [
    "Graph(XAY_model,type=\"SF\")"
   ]
  },
  {
   "cell_type": "markdown",
   "metadata": {},
   "source": [
    "# 3. Solve ODEs"
   ]
  },
  {
   "cell_type": "code",
   "execution_count": null,
   "metadata": {},
   "outputs": [],
   "source": [
    "# define values of constant parameters\n",
    "# unit: year\n",
    "p = LVector(\n",
    "    cβ=15*0.7, μ=1/15,ϕ=(0.95+0.4)/2,σ=12/4,σ′=12/4,ϕ_complement=(1.0 - ((0.95+0.4)/2))\n",
    ")\n",
    "# define initial values for stocks\n",
    "u0 = LVector(\n",
    "    X=990, A=5, Y=5\n",
    ")"
   ]
  },
  {
   "cell_type": "code",
   "execution_count": null,
   "metadata": {},
   "outputs": [],
   "source": [
    "# results are tested the same as the Anylogic model\n",
    "prob_XAY = ODEProblem(vectorfield(XAY_model),u0,(0.0,2.0),p);\n",
    "sol = solve(prob_XAY,Tsit5(),abstol=1e-8);\n",
    "plot(sol)"
   ]
  },
  {
   "cell_type": "code",
   "execution_count": null,
   "metadata": {},
   "outputs": [],
   "source": [
    "# to have the figures plotted fix to the wider of the cells\n",
    "HTML(\"\"\"\n",
    "<style>\n",
    ".output_svg div{\n",
    "  width: 100% !important;\n",
    "  height: 100% !important;\n",
    "}\n",
    "</style>\n",
    "\"\"\")\n"
   ]
  },
  {
   "cell_type": "code",
   "execution_count": null,
   "metadata": {},
   "outputs": [],
   "source": []
  }
 ],
 "metadata": {
  "kernelspec": {
   "display_name": "Julia 1.9.0",
   "language": "julia",
   "name": "julia-1.9"
  },
  "language_info": {
   "file_extension": ".jl",
   "mimetype": "application/julia",
   "name": "julia",
   "version": "1.9.0"
  }
 },
 "nbformat": 4,
 "nbformat_minor": 2
}
