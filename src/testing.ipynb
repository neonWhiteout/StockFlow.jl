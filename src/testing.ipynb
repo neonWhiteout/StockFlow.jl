{
 "cells": [
  {
   "cell_type": "code",
   "execution_count": 1,
   "metadata": {},
   "outputs": [
    {
     "data": {
      "text/plain": [
       "Main.StockFlow"
      ]
     },
     "metadata": {},
     "output_type": "display_data"
    }
   ],
   "source": [
    "# import Pkg; Pkg.add(\"Combinatorics\")\n",
    "\n",
    "include(\"./StockFlow.jl\")"
   ]
  },
  {
   "cell_type": "code",
   "execution_count": 2,
   "metadata": {},
   "outputs": [],
   "source": [
    "using .StockFlow"
   ]
  },
  {
   "cell_type": "code",
   "execution_count": 3,
   "metadata": {},
   "outputs": [
    {
     "data": {
      "text/plain": [
       "Main.Syntax"
      ]
     },
     "metadata": {},
     "output_type": "display_data"
    }
   ],
   "source": [
    "include(\"./Syntax.jl\")"
   ]
  },
  {
   "cell_type": "code",
   "execution_count": 4,
   "metadata": {},
   "outputs": [],
   "source": [
    "using .Syntax"
   ]
  },
  {
   "cell_type": "code",
   "execution_count": null,
   "metadata": {},
   "outputs": [],
   "source": []
  },
  {
   "cell_type": "code",
   "execution_count": null,
   "metadata": {},
   "outputs": [],
   "source": [
    "I = @stock_and_flow begin\n",
    "    :stocks\n",
    "    V\n",
    "    I\n",
    "    \n",
    "    :parameters\n",
    "    c\n",
    "    β\n",
    "    \n",
    "    :dynamic_variables\n",
    "    v_prevalence = I / N\n",
    "    v_meanInfectiousContactsPerS = c * v_prevalence\n",
    "    # v_perSIncidenceRate = log(β)\n",
    "    # v_infV = V # TODO: Make this valid somehow\n",
    "    \n",
    "    :sums\n",
    "    N = [V, I]\n",
    "    \n",
    "end"
   ]
  },
  {
   "cell_type": "code",
   "execution_count": null,
   "metadata": {},
   "outputs": [],
   "source": [
    "I2 = @stock_and_flow begin\n",
    "    :stocks\n",
    "    V\n",
    "    I\n",
    "    \n",
    "    :parameters\n",
    "    c\n",
    "    β\n",
    "    \n",
    "    :dynamic_variables\n",
    "    v_prevalence = I / N\n",
    "    v_meanInfectiousContactsPerS = β * β * β\n",
    "    v_perSIncidenceRate = β * v_meanInfectiousContactsPerS\n",
    "    # v_infV = V # TODO: Make this valid somehow\n",
    "    \n",
    "\n",
    "    :flows\n",
    "    V => f1(v_meanInfectiousContactsPerS) => I\n",
    "\n",
    "    :sums\n",
    "    N = [V, I]\n",
    "    \n",
    "end"
   ]
  },
  {
   "cell_type": "code",
   "execution_count": null,
   "metadata": {},
   "outputs": [],
   "source": [
    "Graph(I2)"
   ]
  },
  {
   "cell_type": "code",
   "execution_count": null,
   "metadata": {},
   "outputs": [],
   "source": [
    "using GraphViz"
   ]
  },
  {
   "cell_type": "code",
   "execution_count": null,
   "metadata": {},
   "outputs": [],
   "source": []
  },
  {
   "cell_type": "code",
   "execution_count": 5,
   "metadata": {},
   "outputs": [
    {
     "data": {
      "text/plain": [
       "Main.Syntax2"
      ]
     },
     "metadata": {},
     "output_type": "display_data"
    }
   ],
   "source": [
    "include(\"Syntax2.jl\")"
   ]
  },
  {
   "cell_type": "code",
   "execution_count": 6,
   "metadata": {},
   "outputs": [],
   "source": [
    "using .Syntax2"
   ]
  },
  {
   "cell_type": "code",
   "execution_count": null,
   "metadata": {},
   "outputs": [],
   "source": [
    "names(Syntax2, all=true)"
   ]
  },
  {
   "attachments": {},
   "cell_type": "markdown",
   "metadata": {},
   "source": []
  },
  {
   "cell_type": "code",
   "execution_count": 2,
   "metadata": {},
   "outputs": [
    {
     "name": "stdout",
     "output_type": "stream",
     "text": [
      "Any[:(:stocks), :V, :I, :(:parameters), :c, :β, :($(Expr(:$, :v1))), :(:dynamic_variables), :(v_prevalence = $(Expr(:$, :v1)) / N), :(v_meanInfectiousContactsPerS = β * β * β), :(v_perSIncidenceRate = β * v_meanInfectiousContactsPerS), :(:flows), :(V => (f1(v_meanInfectiousContactsPerS) => I)), :(:sums), :(N = [V])]\n",
      "returning recurse!v_prevalence = $v1 / N\n",
      "Any[:v_prevalence, :($(Expr(:$, :v1)) / N)]\n",
      "Vector{Any}\n",
      "v_prevalence\n",
      "Symbol\n",
      "$v1 / N\n",
      "Expr\n",
      "returning recurse!v_meanInfectiousContactsPerS = β * β * β\n",
      "Any[:v_meanInfectiousContactsPerS, :(β * β * β)]\n",
      "Vector{Any}\n",
      "v_meanInfectiousContactsPerS\n",
      "Symbol\n",
      "β * β * β\n",
      "Expr\n",
      "returning recurse!v_perSIncidenceRate = β * v_meanInfectiousContactsPerS\n",
      "Any[:v_perSIncidenceRate, :(β * v_meanInfectiousContactsPerS)]\n",
      "Vector{Any}\n",
      "v_perSIncidenceRate\n",
      "Symbol\n",
      "β * v_meanInfectiousContactsPerS\n",
      "Expr\n",
      "returning recurse!V => (f1(v_meanInfectiousContactsPerS) => I)\n",
      "Any[:(=>), :V, :(f1(v_meanInfectiousContactsPerS) => I)]\n",
      "Vector{Any}\n",
      "=>\n",
      "Symbol\n",
      "V\n",
      "Symbol\n",
      "f1(v_meanInfectiousContactsPerS) => I\n",
      "Expr\n",
      "returning recurse!N = [V]\n",
      "Any[:N, :([V])]\n",
      "Vector{Any}\n",
      "N\n",
      "Symbol\n",
      "[V]\n",
      "Expr\n"
     ]
    },
    {
     "name": "stderr",
     "output_type": "stream",
     "text": [
      "WARNING: replacing module StockFlow.\n",
      "WARNING: replacing module Syntax.\n",
      "WARNING: using Syntax.@stock_and_flow_string in module Main conflicts with an existing identifier.\n"
     ]
    },
    {
     "ename": "LoadError",
     "evalue": "LoadError: MethodError: no method matching parse_stock!(::Vector{Symbol}, ::Dict{String, String})\n\nClosest candidates are:\n  parse_stock!(::Vector{Symbol}, !Matched::Symbol)\n   @ Main.Syntax ~/Documents/Git/StockFlow.jl/src/Syntax.jl:294\n\nin expression starting at /home/silicon/Documents/Git/StockFlow.jl/src/testing.ipynb:10",
     "output_type": "error",
     "traceback": [
      "LoadError: MethodError: no method matching parse_stock!(::Vector{Symbol}, ::Dict{String, String})\n",
      "\n",
      "Closest candidates are:\n",
      "  parse_stock!(::Vector{Symbol}, !Matched::Symbol)\n",
      "   @ Main.Syntax ~/Documents/Git/StockFlow.jl/src/Syntax.jl:294\n",
      "\n",
      "in expression starting at /home/silicon/Documents/Git/StockFlow.jl/src/testing.ipynb:10\n",
      "\n",
      "Stacktrace:\n",
      "  [1] (::Main.Syntax.var\"#2#8\")(s::Dict{String, String})\n",
      "    @ Main.Syntax ~/Documents/Git/StockFlow.jl/src/Syntax.jl:227\n",
      "  [2] parse_stock_and_flow_syntax(statements::Vector{Any})\n",
      "    @ Main.Syntax ~/Documents/Git/StockFlow.jl/src/Syntax.jl:243\n",
      "  [3] var\"@stock_and_flow_string\"(__source__::LineNumberNode, __module__::Module, replacestrings::Any, block::Any)\n",
      "    @ Main.Syntax ~/Documents/Git/StockFlow.jl/src/Syntax.jl:953\n",
      "  [4] eval\n",
      "    @ ./boot.jl:370 [inlined]\n",
      "  [5] include_string(mapexpr::typeof(REPL.softscope), mod::Module, code::String, filename::String)\n",
      "    @ Base ./loading.jl:1899\n",
      "  [6] #invokelatest#2\n",
      "    @ ./essentials.jl:816 [inlined]\n",
      "  [7] invokelatest\n",
      "    @ ./essentials.jl:813 [inlined]\n",
      "  [8] (::VSCodeServer.var\"#198#199\"{VSCodeServer.NotebookRunCellArguments, String})()\n",
      "    @ VSCodeServer ~/.vscode-oss/extensions/julialang.language-julia-1.47.2-universal/scripts/packages/VSCodeServer/src/serve_notebook.jl:19\n",
      "  [9] withpath(f::VSCodeServer.var\"#198#199\"{VSCodeServer.NotebookRunCellArguments, String}, path::String)\n",
      "    @ VSCodeServer ~/.vscode-oss/extensions/julialang.language-julia-1.47.2-universal/scripts/packages/VSCodeServer/src/repl.jl:249\n",
      " [10] notebook_runcell_request(conn::VSCodeServer.JSONRPC.JSONRPCEndpoint{Base.PipeEndpoint, Base.PipeEndpoint}, params::VSCodeServer.NotebookRunCellArguments)\n",
      "    @ VSCodeServer ~/.vscode-oss/extensions/julialang.language-julia-1.47.2-universal/scripts/packages/VSCodeServer/src/serve_notebook.jl:13\n",
      " [11] dispatch_msg(x::VSCodeServer.JSONRPC.JSONRPCEndpoint{Base.PipeEndpoint, Base.PipeEndpoint}, dispatcher::VSCodeServer.JSONRPC.MsgDispatcher, msg::Dict{String, Any})\n",
      "    @ VSCodeServer.JSONRPC ~/.vscode-oss/extensions/julialang.language-julia-1.47.2-universal/scripts/packages/JSONRPC/src/typed.jl:67\n",
      " [12] serve_notebook(pipename::String, outputchannel_logger::Base.CoreLogging.SimpleLogger; crashreporting_pipename::String)\n",
      "    @ VSCodeServer ~/.vscode-oss/extensions/julialang.language-julia-1.47.2-universal/scripts/packages/VSCodeServer/src/serve_notebook.jl:139\n",
      " [13] top-level scope\n",
      "    @ ~/.vscode-oss/extensions/julialang.language-julia-1.47.2-universal/scripts/notebook/notebook.jl:32"
     ]
    }
   ],
   "source": [
    "include(\"./StockFlow.jl\")\n",
    "using .StockFlow\n",
    "include(\"Syntax.jl\")\n",
    "using .Syntax\n",
    "# include(\"Syntax2.jl\")\n",
    "# using .Syntax2\n",
    "\n",
    "\n",
    "\n",
    "k = @stock_and_flow_string [\"A\", \"B\", \"C\"] begin\n",
    "    :stocks\n",
    "    V\n",
    "    I\n",
    "\n",
    "    :parameters\n",
    "    c\n",
    "    β\n",
    "    \n",
    "\n",
    "    :dynamic_variables\n",
    "    v_prevalence = β / N\n",
    "    v_meanInfectiousContactsPerS = β * β * β\n",
    "    v_perSIncidenceRate = β * v_meanInfectiousContactsPerS\n",
    "    # v_infV = V # TODO: Make this valid somehow\n",
    "\n",
    "\n",
    "    :flows\n",
    "    V => f1(v_meanInfectiousContactsPerS) => I\n",
    "\n",
    "    :sums\n",
    "    N = [V]\n",
    "\n",
    "\n",
    "end"
   ]
  },
  {
   "cell_type": "code",
   "execution_count": 2,
   "metadata": {},
   "outputs": [
    {
     "data": {
      "text/plain": [
       "Graph(\"G\", true, \"dot\", Catlab.Graphics.Graphviz.Statement[], OrderedCollections.OrderedDict{Symbol, Union{String, Catlab.Graphics.Graphviz.Html}}(:rankdir => \"LR\"), OrderedCollections.OrderedDict{Symbol, Union{String, Catlab.Graphics.Graphviz.Html}}(), OrderedCollections.OrderedDict{Symbol, Union{String, Catlab.Graphics.Graphviz.Html}}(:splines => \"splines\"))"
      ]
     },
     "metadata": {},
     "output_type": "display_data"
    }
   ],
   "source": [
    "Graph(k)"
   ]
  },
  {
   "cell_type": "code",
   "execution_count": 4,
   "metadata": {},
   "outputs": [
    {
     "data": {
      "text/plain": [
       ":Hello"
      ]
     },
     "metadata": {},
     "output_type": "display_data"
    }
   ],
   "source": [
    "p(\"Hello\")"
   ]
  },
  {
   "cell_type": "code",
   "execution_count": 3,
   "metadata": {},
   "outputs": [
    {
     "name": "stdout",
     "output_type": "stream",
     "text": [
      "nothing\n"
     ]
    }
   ],
   "source": [
    "println(k)"
   ]
  },
  {
   "cell_type": "code",
   "execution_count": 3,
   "metadata": {},
   "outputs": [],
   "source": [
    "using MLStyle"
   ]
  },
  {
   "cell_type": "code",
   "execution_count": 35,
   "metadata": {},
   "outputs": [
    {
     "data": {
      "text/plain": [
       "ooo (generic function with 1 method)"
      ]
     },
     "metadata": {},
     "output_type": "display_data"
    }
   ],
   "source": [
    "\n",
    "function ooo(a)\n",
    "    @match a begin\n",
    "    Expr(:$, a) => begin\n",
    "    println(a)\n",
    "    println(typeof(a))\n",
    "    end\n",
    "    _ => println(\"fail!A\") end\n",
    "    end\n"
   ]
  },
  {
   "cell_type": "code",
   "execution_count": 36,
   "metadata": {},
   "outputs": [
    {
     "name": "stdout",
     "output_type": "stream",
     "text": [
      "fail!A\n"
     ]
    }
   ],
   "source": [
    "ooo(K)"
   ]
  },
  {
   "cell_type": "code",
   "execution_count": 23,
   "metadata": {},
   "outputs": [
    {
     "data": {
      "text/plain": [
       ":(identity(1))"
      ]
     },
     "metadata": {},
     "output_type": "display_data"
    }
   ],
   "source": [
    "p = :(identity(1))"
   ]
  },
  {
   "cell_type": "code",
   "execution_count": 33,
   "metadata": {},
   "outputs": [
    {
     "data": {
      "text/plain": [
       ":($(Expr(:$, :var)))"
      ]
     },
     "metadata": {},
     "output_type": "display_data"
    }
   ],
   "source": [
    "K = Expr(:$, :var)"
   ]
  },
  {
   "cell_type": "code",
   "execution_count": 30,
   "metadata": {},
   "outputs": [
    {
     "ename": "ErrorException",
     "evalue": "type Expr has no field call",
     "output_type": "error",
     "traceback": [
      "type Expr has no field call\n",
      "\n",
      "Stacktrace:\n",
      " [1] getproperty(x::Expr, f::Symbol)\n",
      "   @ Base ./Base.jl:37\n",
      " [2] top-level scope\n",
      "   @ ~/Documents/Git/StockFlow.jl/src/testing.ipynb:1"
     ]
    }
   ],
   "source": [
    "K.call"
   ]
  },
  {
   "cell_type": "code",
   "execution_count": 1,
   "metadata": {},
   "outputs": [],
   "source": [
    "using GraphViz\n",
    "\n",
    "using StockFlow\n",
    "using StockFlow.Syntax\n",
    "\n",
    "using Catlab\n",
    "using Catlab.CategoricalAlgebra\n",
    "using LabelledArrays\n",
    "using OrdinaryDiffEq\n",
    "using Plots\n",
    "\n",
    "using Catlab.Graphics\n",
    "using Catlab.Programs\n",
    "using Catlab.WiringDiagrams\n",
    "\n",
    "using Catlab.Graphics.Graphviz: Html\n",
    "using Catlab.Graphics.Graphviz"
   ]
  },
  {
   "cell_type": "code",
   "execution_count": 3,
   "metadata": {},
   "outputs": [
    {
     "data": {
      "text/plain": [
       "@okbuddy (macro with 1 method)"
      ]
     },
     "metadata": {},
     "output_type": "display_data"
    }
   ],
   "source": [
    "macro okbuddy()\n",
    "    println(\"Pie chart\")\n",
    "end\n"
   ]
  },
  {
   "cell_type": "code",
   "execution_count": 4,
   "metadata": {},
   "outputs": [
    {
     "name": "stdout",
     "output_type": "stream",
     "text": [
      "Pie chart\n"
     ]
    }
   ],
   "source": [
    "@okbuddy"
   ]
  },
  {
   "cell_type": "code",
   "execution_count": 7,
   "metadata": {},
   "outputs": [
    {
     "data": {
      "text/plain": [
       "ok (generic function with 1 method)"
      ]
     },
     "metadata": {},
     "output_type": "display_data"
    }
   ],
   "source": [
    "function ok()\n",
    "    @eval @okbuddy\n",
    "end"
   ]
  },
  {
   "cell_type": "code",
   "execution_count": 8,
   "metadata": {},
   "outputs": [
    {
     "name": "stdout",
     "output_type": "stream",
     "text": [
      "Pie chart\n"
     ]
    }
   ],
   "source": [
    "ok()"
   ]
  },
  {
   "cell_type": "code",
   "execution_count": 9,
   "metadata": {},
   "outputs": [
    {
     "name": "stdout",
     "output_type": "stream",
     "text": [
      "Pie chart\n"
     ]
    }
   ],
   "source": [
    "ok()"
   ]
  },
  {
   "cell_type": "code",
   "execution_count": 11,
   "metadata": {},
   "outputs": [
    {
     "ename": "ErrorException",
     "evalue": "syntax: \"$\" expression outside quote around /home/silicon/Documents/Git/StockFlow.jl/src/testing.ipynb:4",
     "output_type": "error",
     "traceback": [
      "syntax: \"$\" expression outside quote around /home/silicon/Documents/Git/StockFlow.jl/src/testing.ipynb:4\n",
      "\n",
      "Stacktrace:\n",
      " [1] top-level scope\n",
      "   @ ~/Documents/Git/StockFlow.jl/src/testing.ipynb:1"
     ]
    }
   ],
   "source": [
    "function p(x)\n",
    "    @eval @stock_and_flow\n",
    "    :stocks\n",
    "    $(esc(x))\n",
    "\n",
    "    :sums\n",
    "    N = [$(esc(x))]\n",
    "end"
   ]
  },
  {
   "cell_type": "code",
   "execution_count": 30,
   "metadata": {},
   "outputs": [
    {
     "data": {
      "text/plain": [
       "@pp (macro with 1 method)"
      ]
     },
     "metadata": {},
     "output_type": "display_data"
    }
   ],
   "source": [
    "macro pp(x)\n",
    "    @eval println(local x)\n",
    "end"
   ]
  },
  {
   "cell_type": "code",
   "execution_count": 33,
   "metadata": {},
   "outputs": [
    {
     "name": "stdout",
     "output_type": "stream",
     "text": [
      "nothing\n"
     ]
    }
   ],
   "source": [
    "x = 14\n",
    "@pp quote\n",
    "    x = 12\n",
    "    \n",
    "end"
   ]
  },
  {
   "cell_type": "code",
   "execution_count": 34,
   "metadata": {},
   "outputs": [
    {
     "data": {
      "text/plain": [
       "my_function (generic function with 1 method)"
      ]
     },
     "metadata": {},
     "output_type": "display_data"
    }
   ],
   "source": [
    "macro my_macro(x)\n",
    "    quote\n",
    "        println(\"Inside macro: \", $x)\n",
    "    end\n",
    "end\n",
    "\n",
    "function my_function(arg1, arg2)\n",
    "    macro_expr = quote\n",
    "        @my_macro $arg1\n",
    "        @my_macro $arg2\n",
    "    end\n",
    "    eval(macro_expr)\n",
    "end"
   ]
  },
  {
   "cell_type": "code",
   "execution_count": 35,
   "metadata": {},
   "outputs": [
    {
     "name": "stdout",
     "output_type": "stream",
     "text": [
      "Inside macro: 1\n",
      "Inside macro: 2\n"
     ]
    }
   ],
   "source": [
    "my_function(1,2)"
   ]
  },
  {
   "cell_type": "code",
   "execution_count": 1,
   "metadata": {},
   "outputs": [],
   "source": [
    "include(\"./StockFlow.jl\")\n",
    "using .StockFlow\n",
    "include(\"./Syntax.jl\")\n",
    "using .Syntax"
   ]
  },
  {
   "cell_type": "code",
   "execution_count": 50,
   "metadata": {},
   "outputs": [
    {
     "data": {
      "text/plain": [
       "myStocks (generic function with 1 method)"
      ]
     },
     "metadata": {},
     "output_type": "display_data"
    }
   ],
   "source": [
    "function myStocks(x)\n",
    "    p = quote \n",
    "    :stocks\n",
    "    $x\n",
    "\n",
    "    :sums\n",
    "    N = [$x]\n",
    "    end\n",
    "\n",
    "\n",
    "    @eval @stock_and_flow $p\n",
    "\n",
    "\n",
    "end"
   ]
  },
  {
   "cell_type": "code",
   "execution_count": 53,
   "metadata": {},
   "outputs": [
    {
     "name": "stdout",
     "output_type": "stream",
     "text": [
      "begin\n",
      "    \u001b[90m#= /home/silicon/Documents/Git/StockFlow.jl/src/testing.ipynb:3 =#\u001b[39m\n",
      "    :stocks\n",
      "    \u001b[90m#= /home/silicon/Documents/Git/StockFlow.jl/src/testing.ipynb:4 =#\u001b[39m\n",
      "    A\n",
      "    \u001b[90m#= /home/silicon/Documents/Git/StockFlow.jl/src/testing.ipynb:6 =#\u001b[39m\n",
      "    :sums\n",
      "    \u001b[90m#= /home/silicon/Documents/Git/StockFlow.jl/src/testing.ipynb:7 =#\u001b[39m\n",
      "    N = [A]\n",
      "end\n",
      "Expr\n"
     ]
    },
    {
     "data": {
      "text/html": [
       "<div class=\"c-set\">\n",
       "<span class=\"c-set-summary\">StockFlow.StockAndFlowF with elements S = 1:1, SV = 1:1, LS = 1:1, F = 1:0, I = 1:0, O = 1:0, V = 1:0, LV = 1:0, LSV = 1:0, P = 1:0, LVV = 1:0, LPV = 1:0</span>\n",
       "<table>\n",
       "  <thead>\n",
       "    <tr class = \"header headerLastRow\">\n",
       "      <th class = \"rowNumber\" style = \"font-weight: bold; text-align: right;\">S</th>\n",
       "      <th style = \"text-align: right;\">sname</th>\n",
       "    </tr>\n",
       "  </thead>\n",
       "  <tbody>\n",
       "    <tr>\n",
       "      <td class = \"rowNumber\" style = \"font-weight: bold; text-align: right;\">1</td>\n",
       "      <td style = \"text-align: right;\">A</td>\n",
       "    </tr>\n",
       "  </tbody>\n",
       "</table>\n",
       "<table>\n",
       "  <thead>\n",
       "    <tr class = \"header headerLastRow\">\n",
       "      <th class = \"rowNumber\" style = \"font-weight: bold; text-align: right;\">SV</th>\n",
       "      <th style = \"text-align: right;\">svname</th>\n",
       "    </tr>\n",
       "  </thead>\n",
       "  <tbody>\n",
       "    <tr>\n",
       "      <td class = \"rowNumber\" style = \"font-weight: bold; text-align: right;\">1</td>\n",
       "      <td style = \"text-align: right;\">N</td>\n",
       "    </tr>\n",
       "  </tbody>\n",
       "</table>\n",
       "<table>\n",
       "  <thead>\n",
       "    <tr class = \"header headerLastRow\">\n",
       "      <th class = \"rowNumber\" style = \"font-weight: bold; text-align: right;\">LS</th>\n",
       "      <th style = \"text-align: right;\">lss</th>\n",
       "      <th style = \"text-align: right;\">lssv</th>\n",
       "    </tr>\n",
       "  </thead>\n",
       "  <tbody>\n",
       "    <tr>\n",
       "      <td class = \"rowNumber\" style = \"font-weight: bold; text-align: right;\">1</td>\n",
       "      <td style = \"text-align: right;\">1</td>\n",
       "      <td style = \"text-align: right;\">1</td>\n",
       "    </tr>\n",
       "  </tbody>\n",
       "</table>\n",
       "</div>\n"
      ],
      "text/plain": [
       "StockFlow.StockAndFlowF with elements S = 1:1, SV = 1:1, LS = 1:1, F = 1:0, I = 1:0, O = 1:0, V = 1:0, LV = 1:0, LSV = 1:0, P = 1:0, LVV = 1:0, LPV = 1:0\n",
       "┌───┬───────┐\n",
       "│\u001b[1m S \u001b[0m│\u001b[1m sname \u001b[0m│\n",
       "├───┼───────┤\n",
       "│ 1 │     A │\n",
       "└───┴───────┘\n",
       "┌────┬────────┐\n",
       "│\u001b[1m SV \u001b[0m│\u001b[1m svname \u001b[0m│\n",
       "├────┼────────┤\n",
       "│  1 │      N │\n",
       "└────┴────────┘\n",
       "┌────┬─────┬──────┐\n",
       "│\u001b[1m LS \u001b[0m│\u001b[1m lss \u001b[0m│\u001b[1m lssv \u001b[0m│\n",
       "├────┼─────┼──────┤\n",
       "│  1 │   1 │    1 │\n",
       "└────┴─────┴──────┘\n"
      ]
     },
     "metadata": {},
     "output_type": "display_data"
    }
   ],
   "source": [
    "# p = (Base.remove_linenums!(myStocks(1)))\n",
    "myStocks(:A)\n",
    "# @stock_and_flow begin eval(p.args[1].args) end"
   ]
  },
  {
   "cell_type": "code",
   "execution_count": 45,
   "metadata": {},
   "outputs": [
    {
     "data": {
      "text/plain": [
       "Nothing"
      ]
     },
     "metadata": {},
     "output_type": "display_data"
    }
   ],
   "source": [
    "@eval typeof(begin end)"
   ]
  },
  {
   "cell_type": "code",
   "execution_count": 44,
   "metadata": {},
   "outputs": [],
   "source": []
  },
  {
   "cell_type": "code",
   "execution_count": 54,
   "metadata": {},
   "outputs": [
    {
     "data": {
      "text/plain": [
       "sf_rep (generic function with 1 method)"
      ]
     },
     "metadata": {},
     "output_type": "display_data"
    }
   ],
   "source": [
    "function sf_rep(sfquote, replacevars)\n",
    "end"
   ]
  },
  {
   "cell_type": "code",
   "execution_count": 107,
   "metadata": {},
   "outputs": [
    {
     "data": {
      "text/plain": [
       "@stock_and_flow_rep (macro with 2 methods)"
      ]
     },
     "metadata": {},
     "output_type": "display_data"
    }
   ],
   "source": [
    "macro stock_and_flow_rep(symrep::Expr, block::Expr)\n",
    "    \n",
    "    symrep = symrep.args\n",
    "    println(symrep)\n",
    "    n = length(symrep)\n",
    "    \n",
    "    for i in 1:n # evil\n",
    "        var_name = Symbol(\"v\", i)\n",
    "        println(typeof(symrep[i]))\n",
    "        @assert typeof(symrep[i]) == Symbol # feeble attempt to prevent code injection at eval\n",
    "        eval(Expr(:(=), var_name, symrep[i])) # evil\n",
    "        # maybe better to do s[1] or something?\n",
    "        # of course, we're already throwing eval around, so what's the point.\n",
    "        # Should just make a new macro which does text replacement as it iterates or something\n",
    "    end\n",
    "\n",
    "\n",
    "    newblock = eval(block)\n",
    "\n",
    "    @eval @stock_and_flow $newblock\n",
    "\n",
    "end\n"
   ]
  },
  {
   "cell_type": "code",
   "execution_count": 119,
   "metadata": {},
   "outputs": [
    {
     "name": "stdout",
     "output_type": "stream",
     "text": [
      "Any[:v1, :v2]\n",
      "Symbol\n",
      "Symbol\n",
      "begin\n",
      "    \u001b[90m#= /home/silicon/Documents/Git/StockFlow.jl/src/testing.ipynb:6 =#\u001b[39m\n",
      "    :stocks\n",
      "    \u001b[90m#= /home/silicon/Documents/Git/StockFlow.jl/src/testing.ipynb:7 =#\u001b[39m\n",
      "    S\n",
      "    \u001b[90m#= /home/silicon/Documents/Git/StockFlow.jl/src/testing.ipynb:9 =#\u001b[39m\n",
      "    :sums\n",
      "    \u001b[90m#= /home/silicon/Documents/Git/StockFlow.jl/src/testing.ipynb:10 =#\u001b[39m\n",
      "    F $ v1 = begin\n",
      "            \u001b[90m#= /home/silicon/Documents/Git/StockFlow.jl/src/testing.ipynb:10 =#\u001b[39m\n",
      "            [S]\n",
      "        end\n",
      "end\n",
      "Expr\n"
     ]
    },
    {
     "ename": "LoadError",
     "evalue": "LoadError: MethodError: Cannot `convert` an object of type Expr to an object of type Symbol\n\nClosest candidates are:\n  convert(::Type{T}, !Matched::T) where T\n   @ Base Base.jl:64\n  Symbol(::Any...)\n   @ Base strings/basic.jl:229\n\nin expression starting at /home/silicon/Documents/Git/StockFlow.jl/src/testing.ipynb:20\nin expression starting at /home/silicon/Documents/Git/StockFlow.jl/src/testing.ipynb:5",
     "output_type": "error",
     "traceback": [
      "LoadError: MethodError: Cannot `convert` an object of type Expr to an object of type Symbol\n",
      "\n",
      "Closest candidates are:\n",
      "  convert(::Type{T}, !Matched::T) where T\n",
      "   @ Base Base.jl:64\n",
      "  Symbol(::Any...)\n",
      "   @ Base strings/basic.jl:229\n",
      "\n",
      "in expression starting at /home/silicon/Documents/Git/StockFlow.jl/src/testing.ipynb:20\n",
      "in expression starting at /home/silicon/Documents/Git/StockFlow.jl/src/testing.ipynb:5\n",
      "\n",
      "Stacktrace:\n",
      "  [1] cvt1\n",
      "    @ ./essentials.jl:418 [inlined]\n",
      "  [2] ntuple\n",
      "    @ ./ntuple.jl:49 [inlined]\n",
      "  [3] convert(#unused#::Type{Tuple{Symbol, Vector{Symbol}}}, x::Tuple{Expr, Vector{Any}})\n",
      "    @ Base ./essentials.jl:419\n",
      "  [4] push!(a::Vector{Tuple{Symbol, Vector{Symbol}}}, item::Tuple{Expr, Vector{Any}})\n",
      "    @ Base ./array.jl:1060\n",
      "  [5] parse_sum!(sums::Vector{Tuple{Symbol, Vector{Symbol}}}, sum::Expr)\n",
      "    @ Main.Syntax ~/Documents/Git/StockFlow.jl/src/Syntax.jl:413\n",
      "  [6] (::Main.Syntax.var\"#6#12\")(s::Expr)\n",
      "    @ Main.Syntax ~/Documents/Git/StockFlow.jl/src/Syntax.jl:243\n",
      "  [7] parse_stock_and_flow_syntax(statements::Vector{Any})\n",
      "    @ Main.Syntax ~/Documents/Git/StockFlow.jl/src/Syntax.jl:247\n",
      "  [8] var\"@stock_and_flow\"(__source__::LineNumberNode, __module__::Module, block::Any)\n",
      "    @ Main.Syntax ~/Documents/Git/StockFlow.jl/src/Syntax.jl:147\n",
      "  [9] eval(m::Module, e::Any)\n",
      "    @ Core ./boot.jl:370\n",
      " [10] var\"@stock_and_flow_rep\"(__source__::LineNumberNode, __module__::Module, symrep::Expr, block::Expr)\n",
      "    @ Main ~/Documents/Git/StockFlow.jl/src/testing.ipynb:20\n",
      " [11] eval\n",
      "    @ ./boot.jl:370 [inlined]\n",
      " [12] include_string(mapexpr::typeof(REPL.softscope), mod::Module, code::String, filename::String)\n",
      "    @ Base ./loading.jl:1899\n",
      " [13] #invokelatest#2\n",
      "    @ ./essentials.jl:816 [inlined]\n",
      " [14] invokelatest\n",
      "    @ ./essentials.jl:813 [inlined]\n",
      " [15] (::VSCodeServer.var\"#198#199\"{VSCodeServer.NotebookRunCellArguments, String})()\n",
      "    @ VSCodeServer ~/.vscode-oss/extensions/julialang.language-julia-1.47.2-universal/scripts/packages/VSCodeServer/src/serve_notebook.jl:19\n",
      " [16] withpath(f::VSCodeServer.var\"#198#199\"{VSCodeServer.NotebookRunCellArguments, String}, path::String)\n",
      "    @ VSCodeServer ~/.vscode-oss/extensions/julialang.language-julia-1.47.2-universal/scripts/packages/VSCodeServer/src/repl.jl:249\n",
      " [17] notebook_runcell_request(conn::VSCodeServer.JSONRPC.JSONRPCEndpoint{Base.PipeEndpoint, Base.PipeEndpoint}, params::VSCodeServer.NotebookRunCellArguments)\n",
      "    @ VSCodeServer ~/.vscode-oss/extensions/julialang.language-julia-1.47.2-universal/scripts/packages/VSCodeServer/src/serve_notebook.jl:13\n",
      " [18] dispatch_msg(x::VSCodeServer.JSONRPC.JSONRPCEndpoint{Base.PipeEndpoint, Base.PipeEndpoint}, dispatcher::VSCodeServer.JSONRPC.MsgDispatcher, msg::Dict{String, Any})\n",
      "    @ VSCodeServer.JSONRPC ~/.vscode-oss/extensions/julialang.language-julia-1.47.2-universal/scripts/packages/JSONRPC/src/typed.jl:67\n",
      " [19] serve_notebook(pipename::String, outputchannel_logger::Base.CoreLogging.SimpleLogger; crashreporting_pipename::String)\n",
      "    @ VSCodeServer ~/.vscode-oss/extensions/julialang.language-julia-1.47.2-universal/scripts/packages/VSCodeServer/src/serve_notebook.jl:139\n",
      " [20] top-level scope\n",
      "    @ ~/.vscode-oss/extensions/julialang.language-julia-1.47.2-universal/scripts/notebook/notebook.jl:32"
     ]
    }
   ],
   "source": [
    "# v1 = :AAAA\n",
    "v1 = :S\n",
    "v2 = :N\n",
    "\n",
    "@stock_and_flow_rep [v1,v2] quote\n",
    "    :stocks\n",
    "    $v1\n",
    "\n",
    "    :sums\n",
    "    F$v1 = [$v1]\n",
    "\n",
    "end\n",
    "println(v1)"
   ]
  },
  {
   "cell_type": "code",
   "execution_count": 120,
   "metadata": {},
   "outputs": [],
   "source": [
    "begin end"
   ]
  },
  {
   "cell_type": "code",
   "execution_count": 128,
   "metadata": {},
   "outputs": [
    {
     "ename": "MethodError",
     "evalue": "MethodError: no method matching *(::Symbol, ::Symbol)\n\nClosest candidates are:\n  *(::Any, ::Any, !Matched::Any, !Matched::Any...)\n   @ Base operators.jl:578\n  *(!Matched::SpecialFunctions.SimplePoly, ::Any)\n   @ SpecialFunctions ~/.julia/packages/SpecialFunctions/gXPNz/src/expint.jl:8\n  *(!Matched::ChainRulesCore.AbstractThunk, ::Any)\n   @ ChainRulesCore ~/.julia/packages/ChainRulesCore/0t04l/src/tangent_arithmetic.jl:125\n  ...\n",
     "output_type": "error",
     "traceback": [
      "MethodError: no method matching *(::Symbol, ::Symbol)\n",
      "\n",
      "Closest candidates are:\n",
      "  *(::Any, ::Any, !Matched::Any, !Matched::Any...)\n",
      "   @ Base operators.jl:578\n",
      "  *(!Matched::SpecialFunctions.SimplePoly, ::Any)\n",
      "   @ SpecialFunctions ~/.julia/packages/SpecialFunctions/gXPNz/src/expint.jl:8\n",
      "  *(!Matched::ChainRulesCore.AbstractThunk, ::Any)\n",
      "   @ ChainRulesCore ~/.julia/packages/ChainRulesCore/0t04l/src/tangent_arithmetic.jl:125\n",
      "  ...\n",
      "\n",
      "\n",
      "Stacktrace:\n",
      " [1] top-level scope\n",
      "   @ ~/Documents/Git/StockFlow.jl/src/testing.ipynb:1"
     ]
    }
   ],
   "source": [
    "\n",
    "\n",
    "\n",
    "quote $(v1 * v2) end"
   ]
  },
  {
   "cell_type": "code",
   "execution_count": null,
   "metadata": {},
   "outputs": [],
   "source": [
    "macro stock_and_flow_suffix(suffix::Expr, block::Expr)\n",
    "    \n",
    "    suffix = suffix.args[1]\n",
    "    assert typeof(suffix) == Symbol\n",
    "    @println(symrep)\n",
    "    n = length(symrep)\n",
    "    for \n",
    "    \n",
    "    # for i in 1:n # evil\n",
    "    #     var_name = Symbol(\"v\", i)\n",
    "    #     println(typeof(symrep[i]))\n",
    "    #     @assert typeof(symrep[i]) == Symbol # feeble attempt to prevent code injection at eval\n",
    "    #     eval(Expr(:(=), var_name, symrep[i])) # evil\n",
    "    #     # maybe better to do s[1] or something?\n",
    "    #     # of course, we're already throwing eval around, so what's the point.\n",
    "    #     # Should just make a new macro which does text replacement as it iterates or something\n",
    "    # end\n",
    "\n",
    "\n",
    "    newblock = eval(block)\n",
    "\n",
    "    @eval @stock_and_flow $newblock\n",
    "\n",
    "end\n"
   ]
  }
 ],
 "metadata": {
  "kernelspec": {
   "display_name": "Julia 1.9.1",
   "language": "julia",
   "name": "julia-1.9"
  },
  "language_info": {
   "file_extension": ".jl",
   "mimetype": "application/julia",
   "name": "julia",
   "version": "1.9.1"
  },
  "orig_nbformat": 4
 },
 "nbformat": 4,
 "nbformat_minor": 2
}
